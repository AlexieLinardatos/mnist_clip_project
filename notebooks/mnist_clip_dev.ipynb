{
 "cells": [
  {
   "cell_type": "markdown",
   "metadata": {},
   "source": [
    "# Interacting with CLIP"
   ]
  },
  {
   "cell_type": "markdown",
   "metadata": {},
   "source": [
    "This is a self-contained notebook that shows how to download and run CLIP models, calculate the similarity between arbitrary image and text inputs, and perform zero-shot image classifications."
   ]
  },
  {
   "cell_type": "markdown",
   "metadata": {},
   "source": [
    "# Preparation for Colab"
   ]
  },
  {
   "cell_type": "markdown",
   "metadata": {},
   "source": [
    "Make sure you're running a GPU runtime; if not, select \"GPU\" as the hardware accelerator in Runtime > Change Runtime Type in the menu. The next cells will install the `clip` package and its dependencies, and check if PyTorch 1.7.1 or later is installed."
   ]
  },
  {
   "cell_type": "code",
   "execution_count": 1,
   "metadata": {},
   "outputs": [
    {
     "name": "stdout",
     "output_type": "stream",
     "text": [
      "Requirement already satisfied: ftfy in c:\\users\\alexie\\documents\\scripts\\masters\\clip\\.venv\\lib\\site-packages (6.2.3)\n",
      "Requirement already satisfied: regex in c:\\users\\alexie\\documents\\scripts\\masters\\clip\\.venv\\lib\\site-packages (2024.9.11)\n",
      "Requirement already satisfied: tqdm in c:\\users\\alexie\\documents\\scripts\\masters\\clip\\.venv\\lib\\site-packages (4.66.5)\n",
      "Requirement already satisfied: wcwidth<0.3.0,>=0.2.12 in c:\\users\\alexie\\documents\\scripts\\masters\\clip\\.venv\\lib\\site-packages (from ftfy) (0.2.13)\n",
      "Requirement already satisfied: colorama in c:\\users\\alexie\\documents\\scripts\\masters\\clip\\.venv\\lib\\site-packages (from tqdm) (0.4.6)\n",
      "Collecting git+https://github.com/openai/CLIP.git\n",
      "  Cloning https://github.com/openai/CLIP.git to c:\\users\\alexie\\appdata\\local\\temp\\pip-req-build-__turymd\n",
      "  Resolved https://github.com/openai/CLIP.git to commit dcba3cb2e2827b402d2701e7e1c7d9fed8a20ef1\n",
      "  Installing build dependencies: started\n",
      "  Installing build dependencies: finished with status 'done'\n",
      "  Getting requirements to build wheel: started\n",
      "  Getting requirements to build wheel: finished with status 'done'\n",
      "  Preparing metadata (pyproject.toml): started\n",
      "  Preparing metadata (pyproject.toml): finished with status 'done'\n",
      "Requirement already satisfied: ftfy in c:\\users\\alexie\\documents\\scripts\\masters\\clip\\.venv\\lib\\site-packages (from clip==1.0) (6.2.3)\n",
      "Requirement already satisfied: packaging in c:\\users\\alexie\\documents\\scripts\\masters\\clip\\.venv\\lib\\site-packages (from clip==1.0) (24.1)\n",
      "Requirement already satisfied: regex in c:\\users\\alexie\\documents\\scripts\\masters\\clip\\.venv\\lib\\site-packages (from clip==1.0) (2024.9.11)\n",
      "Requirement already satisfied: tqdm in c:\\users\\alexie\\documents\\scripts\\masters\\clip\\.venv\\lib\\site-packages (from clip==1.0) (4.66.5)\n",
      "Requirement already satisfied: torch in c:\\users\\alexie\\documents\\scripts\\masters\\clip\\.venv\\lib\\site-packages (from clip==1.0) (2.4.1)\n",
      "Requirement already satisfied: torchvision in c:\\users\\alexie\\documents\\scripts\\masters\\clip\\.venv\\lib\\site-packages (from clip==1.0) (0.19.1)\n",
      "Requirement already satisfied: wcwidth<0.3.0,>=0.2.12 in c:\\users\\alexie\\documents\\scripts\\masters\\clip\\.venv\\lib\\site-packages (from ftfy->clip==1.0) (0.2.13)\n",
      "Requirement already satisfied: filelock in c:\\users\\alexie\\documents\\scripts\\masters\\clip\\.venv\\lib\\site-packages (from torch->clip==1.0) (3.16.1)\n",
      "Requirement already satisfied: typing-extensions>=4.8.0 in c:\\users\\alexie\\documents\\scripts\\masters\\clip\\.venv\\lib\\site-packages (from torch->clip==1.0) (4.12.2)\n",
      "Requirement already satisfied: sympy in c:\\users\\alexie\\documents\\scripts\\masters\\clip\\.venv\\lib\\site-packages (from torch->clip==1.0) (1.13.3)\n",
      "Requirement already satisfied: networkx in c:\\users\\alexie\\documents\\scripts\\masters\\clip\\.venv\\lib\\site-packages (from torch->clip==1.0) (3.3)\n",
      "Requirement already satisfied: jinja2 in c:\\users\\alexie\\documents\\scripts\\masters\\clip\\.venv\\lib\\site-packages (from torch->clip==1.0) (3.1.4)\n",
      "Requirement already satisfied: fsspec in c:\\users\\alexie\\documents\\scripts\\masters\\clip\\.venv\\lib\\site-packages (from torch->clip==1.0) (2024.9.0)\n",
      "Requirement already satisfied: setuptools in c:\\users\\alexie\\documents\\scripts\\masters\\clip\\.venv\\lib\\site-packages (from torch->clip==1.0) (75.1.0)\n",
      "Requirement already satisfied: numpy in c:\\users\\alexie\\documents\\scripts\\masters\\clip\\.venv\\lib\\site-packages (from torchvision->clip==1.0) (2.1.1)\n",
      "Requirement already satisfied: pillow!=8.3.*,>=5.3.0 in c:\\users\\alexie\\documents\\scripts\\masters\\clip\\.venv\\lib\\site-packages (from torchvision->clip==1.0) (10.4.0)\n",
      "Requirement already satisfied: colorama in c:\\users\\alexie\\documents\\scripts\\masters\\clip\\.venv\\lib\\site-packages (from tqdm->clip==1.0) (0.4.6)\n",
      "Requirement already satisfied: MarkupSafe>=2.0 in c:\\users\\alexie\\documents\\scripts\\masters\\clip\\.venv\\lib\\site-packages (from jinja2->torch->clip==1.0) (2.1.5)\n",
      "Requirement already satisfied: mpmath<1.4,>=1.1.0 in c:\\users\\alexie\\documents\\scripts\\masters\\clip\\.venv\\lib\\site-packages (from sympy->torch->clip==1.0) (1.3.0)\n"
     ]
    },
    {
     "name": "stderr",
     "output_type": "stream",
     "text": [
      "  Running command git clone --filter=blob:none --quiet https://github.com/openai/CLIP.git 'C:\\Users\\Alexie\\AppData\\Local\\Temp\\pip-req-build-__turymd'\n"
     ]
    }
   ],
   "source": [
    "! pip install ftfy regex tqdm\n",
    "! pip install git+https://github.com/openai/CLIP.git"
   ]
  },
  {
   "cell_type": "code",
   "execution_count": 5,
   "metadata": {},
   "outputs": [
    {
     "name": "stdout",
     "output_type": "stream",
     "text": [
      "Torch version: 2.4.1+cpu\n"
     ]
    }
   ],
   "source": [
    "import numpy as np\n",
    "import torch\n",
    "import torchvision.transforms as transforms\n",
    "from pkg_resources import packaging\n",
    "from torchvision.datasets import MNIST\n",
    "from torch.utils.data import DataLoader\n",
    "import clip\n",
    "from PIL import Image\n",
    "import matplotlib.pyplot as plt\n",
    "print(\"Torch version:\", torch.__version__)"
   ]
  },
  {
   "cell_type": "markdown",
   "metadata": {},
   "source": [
    "# Loading the Model"
   ]
  },
  {
   "cell_type": "markdown",
   "metadata": {},
   "source": [
    "`clip.available_models()` will list the names of available CLIP models."
   ]
  },
  {
   "cell_type": "code",
   "execution_count": 9,
   "metadata": {},
   "outputs": [],
   "source": [
    "# will output the list of names of available Clip Models\n",
    "clip.available_models()\n",
    "\n",
    "# Loading the CLIP mdoel and preprocessing it\n",
    "#why did i use this model????\n",
    "model, preprocess = clip.load(\"ViT-B/32\", device=\"cpu\" )"
   ]
  },
  {
   "cell_type": "markdown",
   "metadata": {},
   "source": [
    "# Downloading and Loading the Dataset"
   ]
  },
  {
   "cell_type": "code",
   "execution_count": 13,
   "metadata": {},
   "outputs": [],
   "source": [
    "# Load the MNIST dataset\n",
    "# Convert the grayscale image to 3 channels (RGB)\n",
    "transform = transforms.Compose([\n",
    "    transforms.Resize((224, 224)),  # Resize to CLIP's input resolution\n",
    "    transforms.Grayscale(num_output_channels=3),  # Convert 1-channel grayscale to 3-channel RGB\n",
    "    transforms.ToTensor(),  # Convert to tensor\n",
    "    transforms.Normalize((0.5, 0.5, 0.5), (0.5, 0.5, 0.5)),  # Normalize to [-1, 1] as expected by CLIP\n",
    "])\n",
    "\n",
    "# Download the MNIST dataset and apply transformations\n",
    "mnist_train = MNIST(root=\"./data\", train=True, transform=transform, download=True)\n",
    "mnist_test = MNIST(root=\"./data\", train=False, transform=transform, download=True)\n",
    "\n",
    "# Use DataLoader to iterate over the dataset\n",
    "train_loader = DataLoader(mnist_train, batch_size=32, shuffle=True)\n"
   ]
  },
  {
   "cell_type": "markdown",
   "metadata": {},
   "source": [
    "# Processing the image and passing it through clip "
   ]
  },
  {
   "cell_type": "code",
   "execution_count": 14,
   "metadata": {},
   "outputs": [
    {
     "name": "stdout",
     "output_type": "stream",
     "text": [
      "Similarity between images and text: [[0.2554853  0.26694685 0.25999594 ... 0.2578294  0.26694682 0.2611128 ]\n",
      " [0.24084765 0.24592641 0.24487562 ... 0.24381167 0.24592638 0.24552229]\n",
      " [0.25651512 0.27008596 0.26937586 ... 0.26420653 0.27008593 0.26454306]\n",
      " ...\n",
      " [0.24360701 0.25306225 0.25064826 ... 0.252325   0.25306225 0.25086805]\n",
      " [0.27597457 0.2959634  0.27086627 ... 0.2718351  0.29596335 0.27530682]\n",
      " [0.24638364 0.25678298 0.25592968 ... 0.25406617 0.2567829  0.25437045]]\n"
     ]
    }
   ],
   "source": [
    "# Process the images and pass them through CLIP\n",
    "for images, labels in train_loader:\n",
    "    images = images.to(\"cpu\")\n",
    "\n",
    "    # Encode the images with CLIP\n",
    "    with torch.no_grad():\n",
    "        image_features = model.encode_image(images)\n",
    "\n",
    "    # Optionally, you can encode labels as text and compare similarity\n",
    "    text_inputs = clip.tokenize([f\"This is a {label}\" for label in labels]).to(images.device)\n",
    "    text_features = model.encode_text(text_inputs)\n",
    "\n",
    "    # Calculate similarity between image features and text features\n",
    "    image_features /= image_features.norm(dim=-1, keepdim=True)\n",
    "    text_features /= text_features.norm(dim=-1, keepdim=True)\n",
    "    similarities = (image_features @ text_features.T).cpu().detach().numpy()\n",
    "\n",
    "    print(\"Similarity between images and text:\", similarities)\n",
    "    break  # Just for example purposes; remove to process the whole dataset"
   ]
  },
  {
   "cell_type": "markdown",
   "metadata": {},
   "source": []
  },
  {
   "cell_type": "code",
   "execution_count": 5,
   "metadata": {},
   "outputs": [
    {
     "name": "stdout",
     "output_type": "stream",
     "text": [
      "Similarity between images and text: [[0.25427318 0.2539991  0.2608916  ... 0.2539991  0.24615034 0.26089156]\n",
      " [0.256691   0.25804394 0.26066995 ... 0.25804394 0.24674    0.26066992]\n",
      " [0.26579177 0.26511446 0.26891652 ... 0.26511446 0.25647053 0.26891652]\n",
      " ...\n",
      " [0.26321083 0.26971287 0.26485637 ... 0.26971287 0.2552529  0.26485637]\n",
      " [0.24513367 0.24646153 0.24646574 ... 0.24646153 0.27212775 0.24646571]\n",
      " [0.2486472  0.25426012 0.25177544 ... 0.25426012 0.24449216 0.25177544]]\n"
     ]
    }
   ],
   "source": [
    "\n",
    "\n",
    "# Load the CLIP model and preprocessing\n",
    "model, preprocess = clip.load(\"ViT-B/32\", device=\"cpu\" )\n",
    "\n",
    "# Load the MNIST dataset\n",
    "# Convert the grayscale image to 3 channels (RGB)\n",
    "transform = transforms.Compose([\n",
    "    transforms.Resize((224, 224)),  # Resize to CLIP's input resolution\n",
    "    transforms.Grayscale(num_output_channels=3),  # Convert 1-channel grayscale to 3-channel RGB\n",
    "    transforms.ToTensor(),  # Convert to tensor\n",
    "    transforms.Normalize((0.5, 0.5, 0.5), (0.5, 0.5, 0.5)),  # Normalize to [-1, 1] as expected by CLIP\n",
    "])\n",
    "\n",
    "# Download the MNIST dataset and apply transformations\n",
    "mnist_train = MNIST(root=\"./data\", train=True, transform=transform, download=True)\n",
    "mnist_test = MNIST(root=\"./data\", train=False, transform=transform, download=True)\n",
    "\n",
    "# Use DataLoader to iterate over the dataset\n",
    "train_loader = DataLoader(mnist_train, batch_size=32, shuffle=True)\n",
    "\n",
    "# Process the images and pass them through CLIP\n",
    "for images, labels in train_loader:\n",
    "    images = images.to(\"cpu\")\n",
    "\n",
    "    # Encode the images with CLIP\n",
    "    with torch.no_grad():\n",
    "        image_features = model.encode_image(images)\n",
    "\n",
    "    # Optionally, you can encode labels as text and compare similarity\n",
    "    text_inputs = clip.tokenize([f\"This is a {label}\" for label in labels]).to(images.device)\n",
    "    text_features = model.encode_text(text_inputs)\n",
    "\n",
    "    # Calculate similarity between image features and text features\n",
    "    image_features /= image_features.norm(dim=-1, keepdim=True)\n",
    "    text_features /= text_features.norm(dim=-1, keepdim=True)\n",
    "    similarities = (image_features @ text_features.T).cpu().detach().numpy()\n",
    "\n",
    "    print(\"Similarity between images and text:\", similarities)\n",
    "    break  # Just for example purposes; remove to process the whole dataset\n"
   ]
  },
  {
   "cell_type": "markdown",
   "metadata": {},
   "source": []
  },
  {
   "cell_type": "markdown",
   "metadata": {},
   "source": [
    "im now processing the data getting an image from mnist adding the promt and gettin an image with teh label after the two prompts are added together "
   ]
  },
  {
   "cell_type": "code",
   "execution_count": 1,
   "metadata": {},
   "outputs": [
    {
     "name": "stdout",
     "output_type": "stream",
     "text": [
      "Original label: 1\n",
      "New label based on prompt 'add 2': 3\n"
     ]
    }
   ],
   "source": [
    "import torch\n",
    "import torchvision.transforms as transforms\n",
    "from torchvision.datasets import MNIST\n",
    "from torch.utils.data import DataLoader\n",
    "import clip\n",
    "import re\n",
    "from PIL import Image\n",
    "import random\n",
    "import matplotlib.pyplot as plt\n",
    "\n",
    "# Load the CLIP model and preprocessing\n",
    "device = \"cpu\"\n",
    "model, preprocess = clip.load(\"ViT-B/32\", device=device)\n",
    "\n",
    "# Load the MNIST dataset\n",
    "# Convert the grayscale image to 3 channels (RGB)\n",
    "transform = transforms.Compose([\n",
    "    transforms.Resize((224, 224)),  # Resize to CLIP's input resolution\n",
    "    transforms.Grayscale(num_output_channels=3),  # Convert 1-channel grayscale to 3-channel RGB\n",
    "    transforms.ToTensor(),  # Convert to tensor\n",
    "    transforms.Normalize((0.5, 0.5, 0.5), (0.5, 0.5, 0.5)),  # Normalize to [-1, 1] as expected by CLIP\n",
    "])\n",
    "\n",
    "# Download the MNIST dataset and apply transformations\n",
    "mnist_train = MNIST(root=\"./data\", train=True, transform=transform, download=True)\n",
    "mnist_test = MNIST(root=\"./data\", train=False, transform=transform, download=True)\n",
    "\n",
    "# Helper function to parse the text prompt\n",
    "def parse_text_prompt(prompt):\n",
    "    \"\"\"Parses a text prompt like 'add 3' or 'subtract 2' and returns the operation.\"\"\"\n",
    "    match = re.match(r'(add|subtract) (\\d+)', prompt.lower())\n",
    "    if not match:\n",
    "        raise ValueError(\"Prompt must be in the form of 'add X' or 'subtract X'\")\n",
    "    operation, value = match.groups()\n",
    "    value = int(value)\n",
    "    return operation, value\n",
    "\n",
    "# Function to modify the label based on the text prompt\n",
    "def modify_label(original_label, prompt):\n",
    "    operation, value = parse_text_prompt(prompt)\n",
    "    if operation == 'add':\n",
    "        return original_label + value\n",
    "    elif operation == 'subtract':\n",
    "        return original_label - value\n",
    "    return original_label\n",
    "\n",
    "# Use DataLoader to iterate over the dataset\n",
    "train_loader = DataLoader(mnist_train, batch_size=32, shuffle=True)\n",
    "\n",
    "# Example prompt: \"add 2\"\n",
    "prompt = \"add 2\"\n",
    "\n",
    "\n",
    "# Get a random sample from MNIST\n",
    "for images, labels in train_loader:\n",
    "    images = images.to(\"cpu\")\n",
    "    \n",
    "    # Select the first image and its label\n",
    "    original_image = images[0]\n",
    "    original_label = labels[0].item()\n",
    "    \n",
    "\n",
    "    # Print the original label (for example, it might be 3)\n",
    "    print(f\"Original label: {original_label}\")\n",
    "\n",
    "    # Modify the label based on the prompt\n",
    "    new_label = modify_label(original_label, prompt)\n",
    "\n",
    "    # Clip the label between 0 and 9 (since MNIST digits are 0-9)\n",
    "    new_label = max(0, min(9, new_label))\n",
    "    print(f\"New label based on prompt '{prompt}': {new_label}\")\n",
    "\n",
    "    # Find an image from the MNIST dataset with the new label\n",
    "    mnist_images_with_new_label = [img for img, label in mnist_train if label == new_label]\n",
    "    if mnist_images_with_new_label:\n",
    "        # Randomly select an image of the new label from the dataset\n",
    "        new_image = random.choice(mnist_images_with_new_label)\n",
    "        \n",
    "        # Convert the images back to PIL for displaying\n",
    "        original_image_pil = transforms.ToPILImage()(original_image)\n",
    "        new_image_pil = transforms.ToPILImage()(new_image)\n",
    "        \n",
    "        # Display the original and new image side by side\n",
    "        fig, axs = plt.subplots(1, 2, figsize=(8, 4))\n",
    "\n",
    "        axs[0].imshow(original_image_pil)\n",
    "        axs[0].set_title(f\"Original Image: {original_label}\")\n",
    "        axs[0].axis('off')\n",
    "\n",
    "        axs[1].imshow(new_image_pil)\n",
    "        axs[1].set_title(f\"New Image: {new_label}\")\n",
    "        axs[1].axis('off')\n",
    "\n",
    "        plt.show()\n",
    "\n",
    "    break  # Just for example purposes; remove to process the whole dataset\n"
   ]
  },
  {
   "cell_type": "markdown",
   "metadata": {},
   "source": [
    "now im going to extend the project to do doubble digits by concating the mnist images makijng a double digit image "
   ]
  },
  {
   "cell_type": "code",
   "execution_count": 17,
   "metadata": {},
   "outputs": [
    {
     "data": {
      "image/png": "[encoded data removed]",
      "text/plain": [
       "<Figure size 1200x400 with 3 Axes>"
      ]
     },
     "metadata": {},
     "output_type": "display_data"
    }
   ],
   "source": [
    "import torch\n",
    "import torchvision.transforms as transforms\n",
    "from torchvision.datasets import MNIST\n",
    "from torch.utils.data import DataLoader\n",
    "from PIL import ImageOps, Image\n",
    "import matplotlib.pyplot as plt\n",
    "import random\n",
    "import re\n",
    "\n",
    "# Load MNIST dataset\n",
    "transform = transforms.Compose([\n",
    "    transforms.Resize((224, 224)),  # Resize to CLIP's input resolution\n",
    "    transforms.Grayscale(num_output_channels=3),  # Convert 1-channel grayscale to 3-channel RGB\n",
    "    transforms.ToTensor(),  # Convert to tensor\n",
    "])\n",
    "\n",
    "mnist_train = MNIST(root=\"./data\", train=True, transform=transform, download=True)\n",
    "mnist_test = MNIST(root=\"./data\", train=False, transform=transform, download=True)\n",
    "\n",
    "# Function to create double-digit images\n",
    "def create_double_digit_image(image_1, image_2):\n",
    "    # Ensure both images are the same size\n",
    "    image_1 = ImageOps.pad(image_1, (image_1.width, image_1.height))\n",
    "    image_2 = ImageOps.pad(image_2, (image_2.width, image_1.height))\n",
    "    \n",
    "    # Concatenate the two images side by side\n",
    "    double_digit_image = Image.new('RGB', (image_1.width + image_2.width, image_1.height))\n",
    "    double_digit_image.paste(image_1, (0, 0))\n",
    "    double_digit_image.paste(image_2, (image_1.width, 0))\n",
    "    \n",
    "    return double_digit_image\n",
    "\n",
    "# Function to get an MNIST image by its label\n",
    "def get_image_by_label(label, mnist_data):\n",
    "    mnist_images = [img for img, lbl in mnist_data if lbl == label]\n",
    "    if mnist_images:\n",
    "        return random.choice(mnist_images)\n",
    "    else:\n",
    "        raise ValueError(f\"No images found for label {label}\")\n",
    "\n",
    "# Text prompt\n",
    "prompt = \"add 12\"\n",
    "\n",
    "# Extract digits from the prompt (assumes prompt format like \"add 12\")\n",
    "match = re.search(r'add (\\d+)', prompt)\n",
    "if match:\n",
    "    double_digit = int(match.group(1))\n",
    "else:\n",
    "    raise ValueError(\"Invalid prompt format. Expected something like 'add 12'.\")\n",
    "\n",
    "# Extract the two digits from the double-digit number\n",
    "first_digit = double_digit // 10  # Tens place\n",
    "second_digit = double_digit % 10  # Units place\n",
    "\n",
    "# Retrieve images for the first and second digits from the MNIST dataset\n",
    "first_digit_image = get_image_by_label(first_digit, mnist_train)\n",
    "second_digit_image = get_image_by_label(second_digit, mnist_train)\n",
    "\n",
    "# Convert the images to PIL format for displaying\n",
    "first_digit_pil = transforms.ToPILImage()(first_digit_image)\n",
    "second_digit_pil = transforms.ToPILImage()(second_digit_image)\n",
    "\n",
    "# Create the combined double-digit image\n",
    "double_digit_image = create_double_digit_image(first_digit_pil, second_digit_pil)\n",
    "\n",
    "# Display the original digits and the combined image\n",
    "fig, axs = plt.subplots(1, 3, figsize=(12, 4))\n",
    "\n",
    "axs[0].imshow(first_digit_pil)\n",
    "axs[0].set_title(f\"First Digit: {first_digit}\")\n",
    "axs[0].axis('off')\n",
    "\n",
    "axs[1].imshow(second_digit_pil)\n",
    "axs[1].set_title(f\"Second Digit: {second_digit}\")\n",
    "axs[1].axis('off')\n",
    "\n",
    "axs[2].imshow(double_digit_image)\n",
    "axs[2].set_title(f\"Combined: {first_digit}{second_digit}\")\n",
    "axs[2].axis('off')\n",
    "\n",
    "plt.show()\n",
    "\n"
   ]
  },
  {
   "cell_type": "code",
   "execution_count": null,
   "metadata": {},
   "outputs": [],
   "source": []
  }
 ],
 "metadata": {
  "kernelspec": {
   "display_name": ".venv",
   "language": "python",
   "name": "python3"
  },
  "language_info": {
   "codemirror_mode": {
    "name": "ipython",
    "version": 3
   },
   "file_extension": ".py",
   "mimetype": "text/x-python",
   "name": "python",
   "nbconvert_exporter": "python",
   "pygments_lexer": "ipython3",
   "version": "3.12.4"
  }
 },
 "nbformat": 4,
 "nbformat_minor": 2
}
